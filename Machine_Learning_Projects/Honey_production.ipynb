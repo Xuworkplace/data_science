{
 "cells": [
  {
   "cell_type": "markdown",
   "metadata": {},
   "source": [
    "Prediction of Honey Production based on historical data"
   ]
  },
  {
   "cell_type": "code",
   "execution_count": null,
   "metadata": {},
   "outputs": [],
   "source": [
    "import seaborn as sns\n",
    "import pandas as pd\n",
    "import matplotlib.pyplot as plt\n",
    "import numpy as np\n",
    "from sklearn import linear_model\n",
    "\n",
    "df = pd.read_csv(\"https://content.codecademy.com/programs/data-science-path/linear_regression/honeyproduction.csv\")\n",
    "#print(df.head(10))\n",
    "prod_per_year = df.groupby('year').totalprod.mean().reset_index()\n",
    "X = prod_per_year[\"year\"].values.reshape(-1, 1)\n",
    "y = prod_per_year[\"totalprod\"]\n",
    "plt.scatter(X, y)\n",
    "\n",
    "regr = linear_model.LinearRegression()\n",
    "regr.fit(X, y)\n",
    "print(regr.coef_[0])\n",
    "print(regr.intercept_)\n",
    "y_predict = regr.predict(X)\n",
    "plt.plot(X, y_predict)\n",
    "\n",
    "X_future = np.array(range(2013, 2050))\n",
    "X_future = X_future.reshape(-1, 1)\n",
    "#print(X_future)\n",
    "future_predict = regr.predict(X_future)\n",
    "plt.plot(X_future, future_predict)\n",
    "plt.show()"
   ]
  }
 ],
 "metadata": {
  "kernelspec": {
   "display_name": "Python 3",
   "language": "python",
   "name": "python3"
  },
  "language_info": {
   "codemirror_mode": {
    "name": "ipython",
    "version": 3
   },
   "file_extension": ".py",
   "mimetype": "text/x-python",
   "name": "python",
   "nbconvert_exporter": "python",
   "pygments_lexer": "ipython3",
   "version": "3.11.1"
  }
 },
 "nbformat": 4,
 "nbformat_minor": 2
}
