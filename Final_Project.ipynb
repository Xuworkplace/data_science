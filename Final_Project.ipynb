{
 "cells": [
  {
   "cell_type": "code",
   "execution_count": 20,
   "id": "b98dff9f-157d-41d1-9740-9814071a9ba5",
   "metadata": {
    "tags": []
   },
   "outputs": [
    {
     "name": "stdout",
     "output_type": "stream",
     "text": [
      "Requirement already satisfied: yfinance in /home/jupyterlab/conda/envs/python/lib/python3.7/site-packages (0.2.36)\n",
      "Requirement already satisfied: pandas>=1.3.0 in /home/jupyterlab/conda/envs/python/lib/python3.7/site-packages (from yfinance) (1.3.3)\n",
      "Requirement already satisfied: numpy>=1.16.5 in /home/jupyterlab/conda/envs/python/lib/python3.7/site-packages (from yfinance) (1.21.6)\n",
      "Requirement already satisfied: requests>=2.31 in /home/jupyterlab/conda/envs/python/lib/python3.7/site-packages (from yfinance) (2.31.0)\n",
      "Requirement already satisfied: multitasking>=0.0.7 in /home/jupyterlab/conda/envs/python/lib/python3.7/site-packages (from yfinance) (0.0.11)\n",
      "Collecting lxml>=4.9.1 (from yfinance)\n",
      "  Using cached lxml-5.1.0-cp37-cp37m-manylinux_2_17_x86_64.manylinux2014_x86_64.whl (7.3 MB)\n",
      "Requirement already satisfied: appdirs>=1.4.4 in /home/jupyterlab/conda/envs/python/lib/python3.7/site-packages (from yfinance) (1.4.4)\n",
      "Requirement already satisfied: pytz>=2022.5 in /home/jupyterlab/conda/envs/python/lib/python3.7/site-packages (from yfinance) (2023.3)\n",
      "Requirement already satisfied: frozendict>=2.3.4 in /home/jupyterlab/conda/envs/python/lib/python3.7/site-packages (from yfinance) (2.4.0)\n",
      "Requirement already satisfied: peewee>=3.16.2 in /home/jupyterlab/conda/envs/python/lib/python3.7/site-packages (from yfinance) (3.17.1)\n",
      "Requirement already satisfied: beautifulsoup4>=4.11.1 in /home/jupyterlab/conda/envs/python/lib/python3.7/site-packages (from yfinance) (4.12.3)\n",
      "Requirement already satisfied: html5lib>=1.1 in /home/jupyterlab/conda/envs/python/lib/python3.7/site-packages (from yfinance) (1.1)\n",
      "Requirement already satisfied: soupsieve>1.2 in /home/jupyterlab/conda/envs/python/lib/python3.7/site-packages (from beautifulsoup4>=4.11.1->yfinance) (2.3.2.post1)\n",
      "Requirement already satisfied: six>=1.9 in /home/jupyterlab/conda/envs/python/lib/python3.7/site-packages (from html5lib>=1.1->yfinance) (1.16.0)\n",
      "Requirement already satisfied: webencodings in /home/jupyterlab/conda/envs/python/lib/python3.7/site-packages (from html5lib>=1.1->yfinance) (0.5.1)\n",
      "Requirement already satisfied: python-dateutil>=2.7.3 in /home/jupyterlab/conda/envs/python/lib/python3.7/site-packages (from pandas>=1.3.0->yfinance) (2.8.2)\n",
      "Requirement already satisfied: charset-normalizer<4,>=2 in /home/jupyterlab/conda/envs/python/lib/python3.7/site-packages (from requests>=2.31->yfinance) (3.1.0)\n",
      "Requirement already satisfied: idna<4,>=2.5 in /home/jupyterlab/conda/envs/python/lib/python3.7/site-packages (from requests>=2.31->yfinance) (3.4)\n",
      "Requirement already satisfied: urllib3<3,>=1.21.1 in /home/jupyterlab/conda/envs/python/lib/python3.7/site-packages (from requests>=2.31->yfinance) (1.26.15)\n",
      "Requirement already satisfied: certifi>=2017.4.17 in /home/jupyterlab/conda/envs/python/lib/python3.7/site-packages (from requests>=2.31->yfinance) (2023.5.7)\n",
      "Installing collected packages: lxml\n",
      "  Attempting uninstall: lxml\n",
      "    Found existing installation: lxml 4.6.4\n",
      "    Uninstalling lxml-4.6.4:\n",
      "      Successfully uninstalled lxml-4.6.4\n",
      "Successfully installed lxml-5.1.0\n",
      "                       Date      Open      High       Low     Close  \\\n",
      "0 2010-06-29 00:00:00-04:00  1.266667  1.666667  1.169333  1.592667   \n",
      "1 2010-06-30 00:00:00-04:00  1.719333  2.028000  1.553333  1.588667   \n",
      "2 2010-07-01 00:00:00-04:00  1.666667  1.728000  1.351333  1.464000   \n",
      "3 2010-07-02 00:00:00-04:00  1.533333  1.540000  1.247333  1.280000   \n",
      "4 2010-07-06 00:00:00-04:00  1.333333  1.333333  1.055333  1.074000   \n",
      "\n",
      "      Volume  Dividends  Stock Splits  \n",
      "0  281494500        0.0           0.0  \n",
      "1  257806500        0.0           0.0  \n",
      "2  123282000        0.0           0.0  \n",
      "3   77097000        0.0           0.0  \n",
      "4  103003500        0.0           0.0  \n"
     ]
    }
   ],
   "source": [
    "# importing yfinance #\n",
    "import yfinance as yf\n",
    "!pip install yfinance\n",
    "\n",
    "tesla = yf.Ticker(\"TSLA\")   # Creating the ticker object for Tesla #\n",
    "tesla_data = tesla.history(period=\"max\")\n",
    "tesla_data.reset_index(inplace=True)\n",
    "print(tesla_data.head()) "
   ]
  },
  {
   "cell_type": "code",
   "execution_count": null,
   "id": "13461467-518e-43bb-8ffc-942072bb49ff",
   "metadata": {
    "tags": []
   },
   "outputs": [],
   "source": [
    "!pip install pandas==1.3.3  # install pandas\n",
    "!mamba install bs4==4.10.0 -y\n",
    "!mamba install html5lib==1.1 -y \n",
    "!pip install lxml==4.6.4"
   ]
  },
  {
   "cell_type": "code",
   "execution_count": null,
   "id": "8abffa60-3983-43fe-b0be-9d9d9a9d418d",
   "metadata": {
    "tags": []
   },
   "outputs": [],
   "source": [
    "import pandas as pd\n",
    "import requests\n",
    "from bs4 import BeautifulSoup\n",
    "\n",
    "url = \"https://stockanalysis.com/stocks/tsla/revenue/\"\n",
    "data = requests.get(url).text\n",
    "print(data)"
   ]
  },
  {
   "cell_type": "code",
   "execution_count": 13,
   "id": "635c71e0-a0ef-4f11-9cef-0392c90bd48e",
   "metadata": {
    "tags": []
   },
   "outputs": [],
   "source": [
    "soup = BeautifulSoup(data, \"html5lib\")"
   ]
  },
  {
   "cell_type": "code",
   "execution_count": 14,
   "id": "a163a7f5-08ee-46c1-ac76-3c6190e9aa44",
   "metadata": {
    "tags": []
   },
   "outputs": [],
   "source": [
    "tesla_revenue_data = pd.DataFrame(columns=[\"Fiscal Year End\",\"Revenue\",\"Change\",\"Growth\"])"
   ]
  },
  {
   "cell_type": "code",
   "execution_count": 17,
   "id": "6e9e2b89-1554-4d5a-b4da-c4c12d082657",
   "metadata": {
    "tags": []
   },
   "outputs": [],
   "source": [
    "for row in soup.find(\"tbody\").find_all('tr'):\n",
    "    col = row.find_all('td')\n",
    "    fiscal_year_end = col[0].text\n",
    "    revenue = col[1].text\n",
    "    change = col[2].text\n",
    "    growth = col[3].text\n",
    "    \n",
    "    tesla_revenue_data = tesla_revenue_data.append({\"Fiscal Year End\":fiscal_year_end,\"Revenue\":revenue,\"Change\":change,\"Growth\":growth},ignore_index=True)"
   ]
  },
  {
   "cell_type": "code",
   "execution_count": 18,
   "id": "c4572381-3bd6-4d43-8c95-bf8d10361843",
   "metadata": {
    "tags": []
   },
   "outputs": [
    {
     "data": {
      "text/html": [
       "<div>\n",
       "<style scoped>\n",
       "    .dataframe tbody tr th:only-of-type {\n",
       "        vertical-align: middle;\n",
       "    }\n",
       "\n",
       "    .dataframe tbody tr th {\n",
       "        vertical-align: top;\n",
       "    }\n",
       "\n",
       "    .dataframe thead th {\n",
       "        text-align: right;\n",
       "    }\n",
       "</style>\n",
       "<table border=\"1\" class=\"dataframe\">\n",
       "  <thead>\n",
       "    <tr style=\"text-align: right;\">\n",
       "      <th></th>\n",
       "      <th>Fiscal Year End</th>\n",
       "      <th>Revenue</th>\n",
       "      <th>Change</th>\n",
       "      <th>Growth</th>\n",
       "    </tr>\n",
       "  </thead>\n",
       "  <tbody>\n",
       "    <tr>\n",
       "      <th>0</th>\n",
       "      <td>Dec 31, 2023</td>\n",
       "      <td>96.77B</td>\n",
       "      <td>15.31B</td>\n",
       "      <td>18.80%</td>\n",
       "    </tr>\n",
       "    <tr>\n",
       "      <th>1</th>\n",
       "      <td>Dec 31, 2022</td>\n",
       "      <td>81.46B</td>\n",
       "      <td>27.64B</td>\n",
       "      <td>51.35%</td>\n",
       "    </tr>\n",
       "    <tr>\n",
       "      <th>2</th>\n",
       "      <td>Dec 31, 2021</td>\n",
       "      <td>53.82B</td>\n",
       "      <td>22.29B</td>\n",
       "      <td>70.67%</td>\n",
       "    </tr>\n",
       "    <tr>\n",
       "      <th>3</th>\n",
       "      <td>Dec 31, 2020</td>\n",
       "      <td>31.54B</td>\n",
       "      <td>6.96B</td>\n",
       "      <td>28.31%</td>\n",
       "    </tr>\n",
       "    <tr>\n",
       "      <th>4</th>\n",
       "      <td>Dec 31, 2019</td>\n",
       "      <td>24.58B</td>\n",
       "      <td>3.12B</td>\n",
       "      <td>14.52%</td>\n",
       "    </tr>\n",
       "  </tbody>\n",
       "</table>\n",
       "</div>"
      ],
      "text/plain": [
       "  Fiscal Year End Revenue  Change  Growth\n",
       "0    Dec 31, 2023  96.77B  15.31B  18.80%\n",
       "1    Dec 31, 2022  81.46B  27.64B  51.35%\n",
       "2    Dec 31, 2021  53.82B  22.29B  70.67%\n",
       "3    Dec 31, 2020  31.54B   6.96B  28.31%\n",
       "4    Dec 31, 2019  24.58B   3.12B  14.52%"
      ]
     },
     "execution_count": 18,
     "metadata": {},
     "output_type": "execute_result"
    }
   ],
   "source": [
    "tesla_revenue_data.head()"
   ]
  },
  {
   "cell_type": "code",
   "execution_count": 21,
   "id": "bcbf2b26-5261-4f5a-85d0-8211784b49df",
   "metadata": {
    "tags": []
   },
   "outputs": [
    {
     "name": "stdout",
     "output_type": "stream",
     "text": [
      "                       Date      Open      High       Low     Close    Volume  \\\n",
      "0 2002-02-13 00:00:00-05:00  1.620128  1.693350  1.603296  1.691666  76216000   \n",
      "1 2002-02-14 00:00:00-05:00  1.712707  1.716074  1.670626  1.683251  11021600   \n",
      "2 2002-02-15 00:00:00-05:00  1.683250  1.687458  1.658001  1.674834   8389600   \n",
      "3 2002-02-19 00:00:00-05:00  1.666418  1.666418  1.578047  1.607504   7410400   \n",
      "4 2002-02-20 00:00:00-05:00  1.615920  1.662210  1.603296  1.662210   6892800   \n",
      "\n",
      "   Dividends  Stock Splits  \n",
      "0        0.0           0.0  \n",
      "1        0.0           0.0  \n",
      "2        0.0           0.0  \n",
      "3        0.0           0.0  \n",
      "4        0.0           0.0  \n"
     ]
    }
   ],
   "source": [
    "gamestop = yf.Ticker(\"GME\")   # Creating the ticker object for GameStop #\n",
    "gamestop_data = gamestop.history(period=\"max\")\n",
    "gamestop_data.reset_index(inplace=True)\n",
    "print(gamestop_data.head()) "
   ]
  },
  {
   "cell_type": "code",
   "execution_count": 22,
   "id": "654ffb69-e6cd-4093-b18a-b079a9a66ab6",
   "metadata": {
    "tags": []
   },
   "outputs": [
    {
     "data": {
      "text/html": [
       "<div>\n",
       "<style scoped>\n",
       "    .dataframe tbody tr th:only-of-type {\n",
       "        vertical-align: middle;\n",
       "    }\n",
       "\n",
       "    .dataframe tbody tr th {\n",
       "        vertical-align: top;\n",
       "    }\n",
       "\n",
       "    .dataframe thead th {\n",
       "        text-align: right;\n",
       "    }\n",
       "</style>\n",
       "<table border=\"1\" class=\"dataframe\">\n",
       "  <thead>\n",
       "    <tr style=\"text-align: right;\">\n",
       "      <th></th>\n",
       "      <th>Fiscal Year End</th>\n",
       "      <th>Revenue</th>\n",
       "      <th>Change</th>\n",
       "      <th>Growth</th>\n",
       "    </tr>\n",
       "  </thead>\n",
       "  <tbody>\n",
       "    <tr>\n",
       "      <th>0</th>\n",
       "      <td>Jan 28, 2023</td>\n",
       "      <td>5.93B</td>\n",
       "      <td>-83.50M</td>\n",
       "      <td>-1.39%</td>\n",
       "    </tr>\n",
       "    <tr>\n",
       "      <th>1</th>\n",
       "      <td>Jan 29, 2022</td>\n",
       "      <td>6.01B</td>\n",
       "      <td>920.90M</td>\n",
       "      <td>18.09%</td>\n",
       "    </tr>\n",
       "    <tr>\n",
       "      <th>2</th>\n",
       "      <td>Jan 30, 2021</td>\n",
       "      <td>5.09B</td>\n",
       "      <td>-1.38B</td>\n",
       "      <td>-21.28%</td>\n",
       "    </tr>\n",
       "    <tr>\n",
       "      <th>3</th>\n",
       "      <td>Feb 1, 2020</td>\n",
       "      <td>6.47B</td>\n",
       "      <td>-1.82B</td>\n",
       "      <td>-21.96%</td>\n",
       "    </tr>\n",
       "    <tr>\n",
       "      <th>4</th>\n",
       "      <td>Feb 2, 2019</td>\n",
       "      <td>8.29B</td>\n",
       "      <td>-939.30M</td>\n",
       "      <td>-10.18%</td>\n",
       "    </tr>\n",
       "  </tbody>\n",
       "</table>\n",
       "</div>"
      ],
      "text/plain": [
       "  Fiscal Year End Revenue    Change   Growth\n",
       "0    Jan 28, 2023   5.93B   -83.50M   -1.39%\n",
       "1    Jan 29, 2022   6.01B   920.90M   18.09%\n",
       "2    Jan 30, 2021   5.09B    -1.38B  -21.28%\n",
       "3     Feb 1, 2020   6.47B    -1.82B  -21.96%\n",
       "4     Feb 2, 2019   8.29B  -939.30M  -10.18%"
      ]
     },
     "execution_count": 22,
     "metadata": {},
     "output_type": "execute_result"
    }
   ],
   "source": [
    "url = \"https://stockanalysis.com/stocks/gme/revenue/\"\n",
    "\n",
    "data = requests.get(url).text\n",
    "\n",
    "soup = BeautifulSoup(data, \"html5lib\")\n",
    "\n",
    "gamestop_revenue_data = pd.DataFrame(columns=[\"Fiscal Year End\",\"Revenue\",\"Change\",\"Growth\"])\n",
    "\n",
    "for row in soup.find(\"tbody\").find_all('tr'):\n",
    "    col = row.find_all('td')\n",
    "    fiscal_year_end = col[0].text\n",
    "    revenue = col[1].text\n",
    "    change = col[2].text\n",
    "    growth = col[3].text\n",
    "    \n",
    "    gamestop_revenue_data = gamestop_revenue_data.append({\"Fiscal Year End\":fiscal_year_end,\"Revenue\":revenue,\"Change\":change,\"Growth\":growth},ignore_index=True)\n",
    "\n",
    "gamestop_revenue_data.head()"
   ]
  },
  {
   "cell_type": "code",
   "execution_count": 24,
   "id": "98ee0203-47da-4917-8ac7-21b02c635b9e",
   "metadata": {
    "tags": []
   },
   "outputs": [
    {
     "name": "stdout",
     "output_type": "stream",
     "text": [
      "                          Date        Open        High         Low  \\\n",
      "0    2010-06-29 00:00:00-04:00    1.266667    1.666667    1.169333   \n",
      "1    2010-06-30 00:00:00-04:00    1.719333    2.028000    1.553333   \n",
      "2    2010-07-01 00:00:00-04:00    1.666667    1.728000    1.351333   \n",
      "3    2010-07-02 00:00:00-04:00    1.533333    1.540000    1.247333   \n",
      "4    2010-07-06 00:00:00-04:00    1.333333    1.333333    1.055333   \n",
      "...                        ...         ...         ...         ...   \n",
      "3424 2024-02-06 00:00:00-05:00  177.210007  186.490005  177.110001   \n",
      "3425 2024-02-07 00:00:00-05:00  188.179993  189.789993  182.679993   \n",
      "3426 2024-02-08 00:00:00-05:00  189.000000  191.619995  185.580002   \n",
      "3427 2024-02-09 00:00:00-05:00  190.179993  194.119995  189.479996   \n",
      "3428 2024-02-12 00:00:00-05:00  192.110001  194.729996  187.279999   \n",
      "\n",
      "           Close     Volume  Dividends  Stock Splits Fiscal Year End Revenue  \\\n",
      "0       1.592667  281494500        0.0           0.0    Dec 31, 2023  96.77B   \n",
      "1       1.588667  257806500        0.0           0.0    Dec 31, 2022  81.46B   \n",
      "2       1.464000  123282000        0.0           0.0    Dec 31, 2021  53.82B   \n",
      "3       1.280000   77097000        0.0           0.0    Dec 31, 2020  31.54B   \n",
      "4       1.074000  103003500        0.0           0.0    Dec 31, 2019  24.58B   \n",
      "...          ...        ...        ...           ...             ...     ...   \n",
      "3424  185.100006  122676000        0.0           0.0             NaN     NaN   \n",
      "3425  187.580002  111535200        0.0           0.0             NaN     NaN   \n",
      "3426  189.559998   83034000        0.0           0.0             NaN     NaN   \n",
      "3427  193.570007   84327600        0.0           0.0             NaN     NaN   \n",
      "3428  188.130005   95260000        0.0           0.0             NaN     NaN   \n",
      "\n",
      "      Change  Growth  \n",
      "0     15.31B  18.80%  \n",
      "1     27.64B  51.35%  \n",
      "2     22.29B  70.67%  \n",
      "3      6.96B  28.31%  \n",
      "4      3.12B  14.52%  \n",
      "...      ...     ...  \n",
      "3424     NaN     NaN  \n",
      "3425     NaN     NaN  \n",
      "3426     NaN     NaN  \n",
      "3427     NaN     NaN  \n",
      "3428     NaN     NaN  \n",
      "\n",
      "[3429 rows x 12 columns]\n"
     ]
    }
   ],
   "source": [
    "dashboard = pd.concat([tesla_data, tesla_revenue_data], axis=1)\n",
    "print(dashboard)"
   ]
  },
  {
   "cell_type": "code",
   "execution_count": null,
   "id": "efd07d5b-3647-4a14-9e42-81e32fc6d98f",
   "metadata": {},
   "outputs": [],
   "source": []
  }
 ],
 "metadata": {
  "kernelspec": {
   "display_name": "Python",
   "language": "python",
   "name": "conda-env-python-py"
  },
  "language_info": {
   "codemirror_mode": {
    "name": "ipython",
    "version": 3
   },
   "file_extension": ".py",
   "mimetype": "text/x-python",
   "name": "python",
   "nbconvert_exporter": "python",
   "pygments_lexer": "ipython3",
   "version": "3.7.12"
  }
 },
 "nbformat": 4,
 "nbformat_minor": 5
}
